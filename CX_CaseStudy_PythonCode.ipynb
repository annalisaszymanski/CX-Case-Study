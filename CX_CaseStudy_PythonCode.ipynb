{
 "cells": [
  {
   "cell_type": "code",
   "execution_count": 30,
   "metadata": {
    "collapsed": true
   },
   "outputs": [],
   "source": [
    "import pandas as pd\n",
    "import numpy as np\n",
    "import matplotlib.pyplot as plt\n",
    "from scipy import stats\n"
   ]
  },
  {
   "cell_type": "code",
   "execution_count": 7,
   "metadata": {
    "collapsed": true
   },
   "outputs": [],
   "source": [
    "#Read the excel file\n",
    "#Note this file was cleaned in AWS using SQL\n",
    "df = pd.read_excel(r'C:\\Users\\U2BT\\Documents\\CX Case Study\\Unique_Client_Events_Final.xlsx')"
   ]
  },
  {
   "cell_type": "code",
   "execution_count": 8,
   "metadata": {},
   "outputs": [],
   "source": [
    "#Define Column Names for the Data Frame:\n",
    "df.columns = ['Client_ID', 'Variation', 'Visitor_ID', 'Visit_ID', 'Client_Tenure_Yrs', 'Client_Tenure_Months', 'Client_Age', 'Client_Gender',\n",
    "'Num_Accounts', 'Balance', 'Calls_6_Months', 'Logons_6_Months',\n",
    "'Num_Visitor_ID', 'Num_Visit_ID', 'Process_Step', 'Start_Date',\n",
    "'Drop_Off_Step', 'Drop_Off_Date', 'Complete_Step', 'Complete_Date', 'Confirm_Flag']"
   ]
  },
  {
   "cell_type": "code",
   "execution_count": 9,
   "metadata": {
    "collapsed": true
   },
   "outputs": [],
   "source": [
    "#Quick Data Cleanup\n",
    "#Since there are Nulls in the Confirm_Flag column, replace the Nulls with 0.\n",
    "df[\"Confirm_Flag\"].fillna(0, inplace = True)"
   ]
  },
  {
   "cell_type": "code",
   "execution_count": 10,
   "metadata": {
    "scrolled": true
   },
   "outputs": [
    {
     "data": {
      "text/html": [
       "<div>\n",
       "<style>\n",
       "    .dataframe thead tr:only-child th {\n",
       "        text-align: right;\n",
       "    }\n",
       "\n",
       "    .dataframe thead th {\n",
       "        text-align: left;\n",
       "    }\n",
       "\n",
       "    .dataframe tbody tr th {\n",
       "        vertical-align: top;\n",
       "    }\n",
       "</style>\n",
       "<table border=\"1\" class=\"dataframe\">\n",
       "  <thead>\n",
       "    <tr style=\"text-align: right;\">\n",
       "      <th></th>\n",
       "      <th>Client_ID</th>\n",
       "      <th>Variation</th>\n",
       "      <th>Visitor_ID</th>\n",
       "      <th>Visit_ID</th>\n",
       "      <th>Client_Tenure_Yrs</th>\n",
       "      <th>Client_Tenure_Months</th>\n",
       "      <th>Client_Age</th>\n",
       "      <th>Client_Gender</th>\n",
       "      <th>Num_Accounts</th>\n",
       "      <th>Balance</th>\n",
       "      <th>...</th>\n",
       "      <th>Logons_6_Months</th>\n",
       "      <th>Num_Visitor_ID</th>\n",
       "      <th>Num_Visit_ID</th>\n",
       "      <th>Process_Step</th>\n",
       "      <th>Start_Date</th>\n",
       "      <th>Drop_Off_Step</th>\n",
       "      <th>Drop_Off_Date</th>\n",
       "      <th>Complete_Step</th>\n",
       "      <th>Complete_Date</th>\n",
       "      <th>Confirm_Flag</th>\n",
       "    </tr>\n",
       "  </thead>\n",
       "  <tbody>\n",
       "    <tr>\n",
       "      <th>0</th>\n",
       "      <td>7338123</td>\n",
       "      <td>Test</td>\n",
       "      <td>612065484_94198474375</td>\n",
       "      <td>100019538_17884295066_43909</td>\n",
       "      <td>7.0</td>\n",
       "      <td>88.0</td>\n",
       "      <td>23.0</td>\n",
       "      <td>M</td>\n",
       "      <td>2.0</td>\n",
       "      <td>26436.0</td>\n",
       "      <td>...</td>\n",
       "      <td>9.0</td>\n",
       "      <td>3</td>\n",
       "      <td>3</td>\n",
       "      <td>start</td>\n",
       "      <td>2017-04-09 16:20:56</td>\n",
       "      <td>confirm</td>\n",
       "      <td>2017-04-09 16:24:58</td>\n",
       "      <td>confirm</td>\n",
       "      <td>2017-04-09 16:24:58</td>\n",
       "      <td>1.0</td>\n",
       "    </tr>\n",
       "    <tr>\n",
       "      <th>1</th>\n",
       "      <td>2478628</td>\n",
       "      <td>Test</td>\n",
       "      <td>754122351_18568832435</td>\n",
       "      <td>100022086_87870757897_149620</td>\n",
       "      <td>16.0</td>\n",
       "      <td>198.0</td>\n",
       "      <td>47.0</td>\n",
       "      <td>F</td>\n",
       "      <td>2.0</td>\n",
       "      <td>32456.0</td>\n",
       "      <td>...</td>\n",
       "      <td>5.0</td>\n",
       "      <td>1</td>\n",
       "      <td>1</td>\n",
       "      <td>start</td>\n",
       "      <td>2017-05-23 20:44:01</td>\n",
       "      <td>confirm</td>\n",
       "      <td>2017-05-23 20:47:01</td>\n",
       "      <td>confirm</td>\n",
       "      <td>2017-05-23 20:47:01</td>\n",
       "      <td>1.0</td>\n",
       "    </tr>\n",
       "    <tr>\n",
       "      <th>2</th>\n",
       "      <td>105007</td>\n",
       "      <td>Control</td>\n",
       "      <td>676020267_36602664238</td>\n",
       "      <td>100030127_47967100085_936361</td>\n",
       "      <td>9.0</td>\n",
       "      <td>118.0</td>\n",
       "      <td>35.0</td>\n",
       "      <td>F</td>\n",
       "      <td>2.0</td>\n",
       "      <td>34897.0</td>\n",
       "      <td>...</td>\n",
       "      <td>6.0</td>\n",
       "      <td>1</td>\n",
       "      <td>1</td>\n",
       "      <td>start</td>\n",
       "      <td>2017-03-22 11:07:49</td>\n",
       "      <td>start</td>\n",
       "      <td>2017-03-22 11:07:49</td>\n",
       "      <td>NaN</td>\n",
       "      <td>NaT</td>\n",
       "      <td>0.0</td>\n",
       "    </tr>\n",
       "    <tr>\n",
       "      <th>3</th>\n",
       "      <td>4823947</td>\n",
       "      <td>Control</td>\n",
       "      <td>611052344_43146965242</td>\n",
       "      <td>100057941_88477660212_944512</td>\n",
       "      <td>7.0</td>\n",
       "      <td>86.0</td>\n",
       "      <td>52.0</td>\n",
       "      <td>U</td>\n",
       "      <td>2.0</td>\n",
       "      <td>47340.0</td>\n",
       "      <td>...</td>\n",
       "      <td>8.0</td>\n",
       "      <td>1</td>\n",
       "      <td>1</td>\n",
       "      <td>start</td>\n",
       "      <td>2017-04-09 11:30:10</td>\n",
       "      <td>step_3</td>\n",
       "      <td>2017-04-09 11:34:24</td>\n",
       "      <td>NaN</td>\n",
       "      <td>NaT</td>\n",
       "      <td>0.0</td>\n",
       "    </tr>\n",
       "    <tr>\n",
       "      <th>4</th>\n",
       "      <td>1748647</td>\n",
       "      <td>NaN</td>\n",
       "      <td>413751600_31279009983</td>\n",
       "      <td>100061345_677868293_127105</td>\n",
       "      <td>21.0</td>\n",
       "      <td>260.0</td>\n",
       "      <td>72.0</td>\n",
       "      <td>F</td>\n",
       "      <td>2.0</td>\n",
       "      <td>145799.0</td>\n",
       "      <td>...</td>\n",
       "      <td>3.0</td>\n",
       "      <td>1</td>\n",
       "      <td>1</td>\n",
       "      <td>start</td>\n",
       "      <td>2017-04-04 06:57:49</td>\n",
       "      <td>start</td>\n",
       "      <td>2017-04-04 06:57:49</td>\n",
       "      <td>NaN</td>\n",
       "      <td>NaT</td>\n",
       "      <td>0.0</td>\n",
       "    </tr>\n",
       "  </tbody>\n",
       "</table>\n",
       "<p>5 rows × 21 columns</p>\n",
       "</div>"
      ],
      "text/plain": [
       "   Client_ID Variation             Visitor_ID                      Visit_ID  \\\n",
       "0    7338123      Test  612065484_94198474375   100019538_17884295066_43909   \n",
       "1    2478628      Test  754122351_18568832435  100022086_87870757897_149620   \n",
       "2     105007   Control  676020267_36602664238  100030127_47967100085_936361   \n",
       "3    4823947   Control  611052344_43146965242  100057941_88477660212_944512   \n",
       "4    1748647       NaN  413751600_31279009983    100061345_677868293_127105   \n",
       "\n",
       "   Client_Tenure_Yrs  Client_Tenure_Months  Client_Age Client_Gender  \\\n",
       "0                7.0                  88.0        23.0             M   \n",
       "1               16.0                 198.0        47.0             F   \n",
       "2                9.0                 118.0        35.0             F   \n",
       "3                7.0                  86.0        52.0             U   \n",
       "4               21.0                 260.0        72.0             F   \n",
       "\n",
       "   Num_Accounts   Balance     ...       Logons_6_Months  Num_Visitor_ID  \\\n",
       "0           2.0   26436.0     ...                   9.0               3   \n",
       "1           2.0   32456.0     ...                   5.0               1   \n",
       "2           2.0   34897.0     ...                   6.0               1   \n",
       "3           2.0   47340.0     ...                   8.0               1   \n",
       "4           2.0  145799.0     ...                   3.0               1   \n",
       "\n",
       "   Num_Visit_ID  Process_Step          Start_Date Drop_Off_Step  \\\n",
       "0             3         start 2017-04-09 16:20:56       confirm   \n",
       "1             1         start 2017-05-23 20:44:01       confirm   \n",
       "2             1         start 2017-03-22 11:07:49         start   \n",
       "3             1         start 2017-04-09 11:30:10        step_3   \n",
       "4             1         start 2017-04-04 06:57:49         start   \n",
       "\n",
       "        Drop_Off_Date Complete_Step       Complete_Date Confirm_Flag  \n",
       "0 2017-04-09 16:24:58       confirm 2017-04-09 16:24:58          1.0  \n",
       "1 2017-05-23 20:47:01       confirm 2017-05-23 20:47:01          1.0  \n",
       "2 2017-03-22 11:07:49           NaN                 NaT          0.0  \n",
       "3 2017-04-09 11:34:24           NaN                 NaT          0.0  \n",
       "4 2017-04-04 06:57:49           NaN                 NaT          0.0  \n",
       "\n",
       "[5 rows x 21 columns]"
      ]
     },
     "execution_count": 10,
     "metadata": {},
     "output_type": "execute_result"
    }
   ],
   "source": [
    "#Preview the first Few Lines of Data\n",
    "df.head()"
   ]
  },
  {
   "cell_type": "code",
   "execution_count": 11,
   "metadata": {},
   "outputs": [
    {
     "data": {
      "text/plain": [
       "70609"
      ]
     },
     "execution_count": 11,
     "metadata": {},
     "output_type": "execute_result"
    }
   ],
   "source": [
    "#Review the length of rows in Dataset\n",
    "#Should be 70609 to represent how many people are in the experimental dataset.\n",
    "df['Client_ID'].nunique()"
   ]
  },
  {
   "cell_type": "code",
   "execution_count": 13,
   "metadata": {},
   "outputs": [],
   "source": [
    "#Drop the \"Nulls\" in the Variation Column so that there are only Test and Control Variations\n",
    "df_nonull = df[pd.notnull(df['Variation'])]"
   ]
  },
  {
   "cell_type": "code",
   "execution_count": 14,
   "metadata": {},
   "outputs": [
    {
     "data": {
      "text/plain": [
       "50500"
      ]
     },
     "execution_count": 14,
     "metadata": {},
     "output_type": "execute_result"
    }
   ],
   "source": [
    "#New number of rows in the dataset should be 50500\n",
    "df_nonull['Client_ID'].nunique()"
   ]
  },
  {
   "cell_type": "code",
   "execution_count": 16,
   "metadata": {},
   "outputs": [
    {
     "name": "stderr",
     "output_type": "stream",
     "text": [
      "C:\\Progra~1\\Anaconda3_4\\lib\\site-packages\\ipykernel_launcher.py:2: SettingWithCopyWarning: \n",
      "A value is trying to be set on a copy of a slice from a DataFrame.\n",
      "Try using .loc[row_indexer,col_indexer] = value instead\n",
      "\n",
      "See the caveats in the documentation: http://pandas.pydata.org/pandas-docs/stable/indexing.html#indexing-view-versus-copy\n",
      "  \n"
     ]
    }
   ],
   "source": [
    "#Convert the Start_Date column into a datetime column so that it can be filtered:\n",
    "df_nonull['Start_Date'] = pd.to_datetime(df_nonull['Start_Date'])"
   ]
  },
  {
   "cell_type": "code",
   "execution_count": 18,
   "metadata": {},
   "outputs": [],
   "source": [
    "#Filter the Starting Date of Website Activity to the experiemental testing Dates of March 15th-April 30\n",
    "df_date = df_nonull[(df_nonull['Start_Date'] > '2017-03-14') & (df_nonull['Start_Date'] < '2017-05-01')]"
   ]
  },
  {
   "cell_type": "code",
   "execution_count": 19,
   "metadata": {},
   "outputs": [
    {
     "data": {
      "text/plain": [
       "40028"
      ]
     },
     "execution_count": 19,
     "metadata": {},
     "output_type": "execute_result"
    }
   ],
   "source": [
    "df_date['Client_ID'].nunique()"
   ]
  },
  {
   "cell_type": "code",
   "execution_count": 20,
   "metadata": {},
   "outputs": [
    {
     "data": {
      "text/html": [
       "<div>\n",
       "<style>\n",
       "    .dataframe thead tr:only-child th {\n",
       "        text-align: right;\n",
       "    }\n",
       "\n",
       "    .dataframe thead th {\n",
       "        text-align: left;\n",
       "    }\n",
       "\n",
       "    .dataframe tbody tr th {\n",
       "        vertical-align: top;\n",
       "    }\n",
       "</style>\n",
       "<table border=\"1\" class=\"dataframe\">\n",
       "  <thead>\n",
       "    <tr style=\"text-align: right;\">\n",
       "      <th></th>\n",
       "      <th>Client_ID</th>\n",
       "      <th>Client_Tenure_Yrs</th>\n",
       "      <th>Client_Tenure_Months</th>\n",
       "      <th>Client_Age</th>\n",
       "      <th>Num_Accounts</th>\n",
       "      <th>Balance</th>\n",
       "      <th>Calls_6_Months</th>\n",
       "      <th>Logons_6_Months</th>\n",
       "      <th>Num_Visitor_ID</th>\n",
       "      <th>Num_Visit_ID</th>\n",
       "      <th>Confirm_Flag</th>\n",
       "    </tr>\n",
       "    <tr>\n",
       "      <th>Variation</th>\n",
       "      <th></th>\n",
       "      <th></th>\n",
       "      <th></th>\n",
       "      <th></th>\n",
       "      <th></th>\n",
       "      <th></th>\n",
       "      <th></th>\n",
       "      <th></th>\n",
       "      <th></th>\n",
       "      <th></th>\n",
       "      <th></th>\n",
       "    </tr>\n",
       "  </thead>\n",
       "  <tbody>\n",
       "    <tr>\n",
       "      <th>Control</th>\n",
       "      <td>5.023261e+06</td>\n",
       "      <td>12.094826</td>\n",
       "      <td>151.157062</td>\n",
       "      <td>47.548998</td>\n",
       "      <td>2.264490</td>\n",
       "      <td>152986.964413</td>\n",
       "      <td>3.098323</td>\n",
       "      <td>6.135909</td>\n",
       "      <td>1.142714</td>\n",
       "      <td>1.433028</td>\n",
       "      <td>0.542603</td>\n",
       "    </tr>\n",
       "    <tr>\n",
       "      <th>Test</th>\n",
       "      <td>5.004994e+06</td>\n",
       "      <td>12.005180</td>\n",
       "      <td>150.133957</td>\n",
       "      <td>47.222975</td>\n",
       "      <td>2.251965</td>\n",
       "      <td>151698.496978</td>\n",
       "      <td>3.054028</td>\n",
       "      <td>6.093697</td>\n",
       "      <td>1.128288</td>\n",
       "      <td>1.427838</td>\n",
       "      <td>0.581111</td>\n",
       "    </tr>\n",
       "  </tbody>\n",
       "</table>\n",
       "</div>"
      ],
      "text/plain": [
       "              Client_ID  Client_Tenure_Yrs  Client_Tenure_Months  Client_Age  \\\n",
       "Variation                                                                      \n",
       "Control    5.023261e+06          12.094826            151.157062   47.548998   \n",
       "Test       5.004994e+06          12.005180            150.133957   47.222975   \n",
       "\n",
       "           Num_Accounts        Balance  Calls_6_Months  Logons_6_Months  \\\n",
       "Variation                                                                 \n",
       "Control        2.264490  152986.964413        3.098323         6.135909   \n",
       "Test           2.251965  151698.496978        3.054028         6.093697   \n",
       "\n",
       "           Num_Visitor_ID  Num_Visit_ID  Confirm_Flag  \n",
       "Variation                                              \n",
       "Control          1.142714      1.433028      0.542603  \n",
       "Test             1.128288      1.427838      0.581111  "
      ]
     },
     "execution_count": 20,
     "metadata": {},
     "output_type": "execute_result"
    }
   ],
   "source": [
    "#Quick Scan to see the differences in means by each experimental group:\n",
    "df_date.groupby('Variation').mean()"
   ]
  },
  {
   "cell_type": "code",
   "execution_count": 21,
   "metadata": {},
   "outputs": [
    {
     "data": {
      "text/plain": [
       "0.56378035375237334"
      ]
     },
     "execution_count": 21,
     "metadata": {},
     "output_type": "execute_result"
    }
   ],
   "source": [
    "#Find the overall completion Rate\n",
    "(df_date.query('Confirm_Flag == 1').Confirm_Flag.count())/df_date.shape[0]"
   ]
  },
  {
   "cell_type": "code",
   "execution_count": 86,
   "metadata": {
    "collapsed": true
   },
   "outputs": [],
   "source": [
    "#Construct the Contingency Table for the Variation and Confirm_Flag\n",
    "contingency_table = pd.crosstab(df_date['Variation'], df_date['Confirm_Flag'],margins = True)"
   ]
  },
  {
   "cell_type": "code",
   "execution_count": 87,
   "metadata": {},
   "outputs": [
    {
     "data": {
      "text/html": [
       "<div>\n",
       "<style>\n",
       "    .dataframe thead tr:only-child th {\n",
       "        text-align: right;\n",
       "    }\n",
       "\n",
       "    .dataframe thead th {\n",
       "        text-align: left;\n",
       "    }\n",
       "\n",
       "    .dataframe tbody tr th {\n",
       "        vertical-align: top;\n",
       "    }\n",
       "</style>\n",
       "<table border=\"1\" class=\"dataframe\">\n",
       "  <thead>\n",
       "    <tr style=\"text-align: right;\">\n",
       "      <th>Confirm_Flag</th>\n",
       "      <th>0.0</th>\n",
       "      <th>1.0</th>\n",
       "      <th>All</th>\n",
       "    </tr>\n",
       "    <tr>\n",
       "      <th>Variation</th>\n",
       "      <th></th>\n",
       "      <th></th>\n",
       "      <th></th>\n",
       "    </tr>\n",
       "  </thead>\n",
       "  <tbody>\n",
       "    <tr>\n",
       "      <th>Control</th>\n",
       "      <td>8240</td>\n",
       "      <td>9775</td>\n",
       "      <td>18015</td>\n",
       "    </tr>\n",
       "    <tr>\n",
       "      <th>Test</th>\n",
       "      <td>9221</td>\n",
       "      <td>12792</td>\n",
       "      <td>22013</td>\n",
       "    </tr>\n",
       "    <tr>\n",
       "      <th>All</th>\n",
       "      <td>17461</td>\n",
       "      <td>22567</td>\n",
       "      <td>40028</td>\n",
       "    </tr>\n",
       "  </tbody>\n",
       "</table>\n",
       "</div>"
      ],
      "text/plain": [
       "Confirm_Flag    0.0    1.0    All\n",
       "Variation                        \n",
       "Control        8240   9775  18015\n",
       "Test           9221  12792  22013\n",
       "All           17461  22567  40028"
      ]
     },
     "execution_count": 87,
     "metadata": {},
     "output_type": "execute_result"
    }
   ],
   "source": [
    "#This formats the data into a frequency count table\n",
    "#using the crosstab function in pandas\n",
    "contingency_table"
   ]
  },
  {
   "cell_type": "code",
   "execution_count": 88,
   "metadata": {},
   "outputs": [],
   "source": [
    "#Run P-Value test to determine if there is a significant relationship sample stats\n",
    "#Defining get_pvalue function below:\n",
    "def get_pvalue(con_conv, test_conv, con_size, test_size):\n",
    "    lift = -abs(test_conv - con_conv)\n",
    "    \n",
    "    scale_one = con_conv * (1-con_conv) * (1/ con_size)\n",
    "    scale_two = test_conv * (1-test_conv) * (1/ test_size)\n",
    "    scale_val = (scale_one + scale_two) ** 0.5\n",
    "    \n",
    "    p_value = 2 * stats.norm.cdf(lift, loc=0, scale = scale_val)\n",
    "    \n",
    "    return p_value"
   ]
  },
  {
   "cell_type": "code",
   "execution_count": 89,
   "metadata": {},
   "outputs": [
    {
     "data": {
      "text/plain": [
       "1.1004552306379254e-14"
      ]
     },
     "execution_count": 89,
     "metadata": {},
     "output_type": "execute_result"
    }
   ],
   "source": [
    "# Testing the p-value:\n",
    "con_conv = 0.54260339\n",
    "test_conv = 0.58111116\n",
    "con_size = 18015\n",
    "test_size = 22012\n",
    "get_pvalue(con_conv, test_conv, con_size, test_size)\n",
    "#Given the sample size there is a significant difference in the completion rate"
   ]
  },
  {
   "cell_type": "code",
   "execution_count": 90,
   "metadata": {
    "collapsed": true
   },
   "outputs": [],
   "source": [
    "import seaborn as sns\n",
    "import matplotlib.pyplot as plt"
   ]
  },
  {
   "cell_type": "code",
   "execution_count": 91,
   "metadata": {},
   "outputs": [],
   "source": [
    "#Assigns the frequency values\n",
    "controlcount = contingency_table.iloc[0][0:2].values\n",
    "testcount = contingency_table.iloc[1][0:2].values"
   ]
  },
  {
   "cell_type": "code",
   "execution_count": 41,
   "metadata": {},
   "outputs": [
    {
     "data": {
      "text/plain": [
       "array([ 8240,  9775,  9221, 12792], dtype=int64)"
      ]
     },
     "execution_count": 41,
     "metadata": {},
     "output_type": "execute_result"
    }
   ],
   "source": [
    "#First, let's put the observed values into a one dimensional array, reading the contingency table from left to right then top to bottom.\n",
    "f_obs = np.append(contingency_table.iloc[0][0:2].values, contingency_table.iloc[1][0:2].values)\n",
    "f_obs"
   ]
  },
  {
   "cell_type": "code",
   "execution_count": 42,
   "metadata": {},
   "outputs": [
    {
     "data": {
      "text/plain": [
       "array([18015, 22013], dtype=int64)"
      ]
     },
     "execution_count": 42,
     "metadata": {},
     "output_type": "execute_result"
    }
   ],
   "source": [
    "row_sums = contingency_table.iloc[0:2,2].values\n",
    "row_sums"
   ]
  },
  {
   "cell_type": "code",
   "execution_count": 43,
   "metadata": {},
   "outputs": [
    {
     "data": {
      "text/plain": [
       "array([17461, 22567], dtype=int64)"
      ]
     },
     "execution_count": 43,
     "metadata": {},
     "output_type": "execute_result"
    }
   ],
   "source": [
    "col_sums = contingency_table.iloc[2,0:2].values\n",
    "col_sums"
   ]
  },
  {
   "cell_type": "code",
   "execution_count": 45,
   "metadata": {},
   "outputs": [
    {
     "data": {
      "text/plain": [
       "[7858.4969271509945,\n",
       " 10156.503072849006,\n",
       " 9602.5030728490055,\n",
       " 12410.496927150994]"
      ]
     },
     "execution_count": 45,
     "metadata": {},
     "output_type": "execute_result"
    }
   ],
   "source": [
    "total = contingency_table.loc['All', 'All']\n",
    "f_expected = []\n",
    "\n",
    "for j in range(2):\n",
    "    for i in col_sums:\n",
    "        f_expected.append(i*row_sums[j]/total)\n",
    "f_expected"
   ]
  },
  {
   "cell_type": "code",
   "execution_count": 46,
   "metadata": {},
   "outputs": [
    {
     "name": "stdout",
     "output_type": "stream",
     "text": [
      "Chi-squared Statistic: 59.735336264589264\n"
     ]
    }
   ],
   "source": [
    "chi_squared_statistic = ((f_obs - f_expected)**2/f_expected).sum()\n",
    "print('Chi-squared Statistic: {}'.format(chi_squared_statistic))"
   ]
  },
  {
   "cell_type": "code",
   "execution_count": 47,
   "metadata": {},
   "outputs": [
    {
     "name": "stdout",
     "output_type": "stream",
     "text": [
      "Degrees of Freedom: 1\n"
     ]
    }
   ],
   "source": [
    "dof = (len(row_sums)-1)*(len(col_sums)-1)\n",
    "print(\"Degrees of Freedom: {}\".format(dof))"
   ]
  },
  {
   "cell_type": "code",
   "execution_count": 48,
   "metadata": {
    "collapsed": true
   },
   "outputs": [],
   "source": [
    "#The cut off for a p-value of 0.05 is 3.841.\n",
    "#Our X2 statistic was so large that the p-value is approximately zero.\n",
    "#So we have evidence against the null hypothesis"
   ]
  },
  {
   "cell_type": "code",
   "execution_count": 49,
   "metadata": {},
   "outputs": [
    {
     "data": {
      "text/plain": [
       "array([[ 8240,  9775],\n",
       "       [ 9221, 12792]], dtype=int64)"
      ]
     },
     "execution_count": 49,
     "metadata": {},
     "output_type": "execute_result"
    }
   ],
   "source": [
    "f_obs = np.array([contingency_table.iloc[0][0:2].values,\n",
    "contingency_table.iloc[1][0:2].values])\n",
    "f_obs"
   ]
  },
  {
   "cell_type": "code",
   "execution_count": 50,
   "metadata": {},
   "outputs": [
    {
     "data": {
      "text/plain": [
       "(59.578859958669469, 1.1749048329309977e-14, 1)"
      ]
     },
     "execution_count": 50,
     "metadata": {},
     "output_type": "execute_result"
    }
   ],
   "source": [
    "from scipy import stats\n",
    "stats.chi2_contingency(f_obs)[0:3]"
   ]
  },
  {
   "cell_type": "code",
   "execution_count": 52,
   "metadata": {},
   "outputs": [],
   "source": [
    "##Perform the same Chi-Squared Test for the Drop Off Step and Variation Group:\n",
    "##First Contingency Table is created:\n",
    "contingency_table2 = pd.crosstab(df_date['Variation'], df_date['Drop_Off_Step'], margins = True)"
   ]
  },
  {
   "cell_type": "code",
   "execution_count": 53,
   "metadata": {},
   "outputs": [
    {
     "data": {
      "text/html": [
       "<div>\n",
       "<style>\n",
       "    .dataframe thead tr:only-child th {\n",
       "        text-align: right;\n",
       "    }\n",
       "\n",
       "    .dataframe thead th {\n",
       "        text-align: left;\n",
       "    }\n",
       "\n",
       "    .dataframe tbody tr th {\n",
       "        vertical-align: top;\n",
       "    }\n",
       "</style>\n",
       "<table border=\"1\" class=\"dataframe\">\n",
       "  <thead>\n",
       "    <tr style=\"text-align: right;\">\n",
       "      <th>Drop_Off_Step</th>\n",
       "      <th>confirm</th>\n",
       "      <th>start</th>\n",
       "      <th>step_1</th>\n",
       "      <th>step_2</th>\n",
       "      <th>step_3</th>\n",
       "      <th>All</th>\n",
       "    </tr>\n",
       "    <tr>\n",
       "      <th>Variation</th>\n",
       "      <th></th>\n",
       "      <th></th>\n",
       "      <th></th>\n",
       "      <th></th>\n",
       "      <th></th>\n",
       "      <th></th>\n",
       "    </tr>\n",
       "  </thead>\n",
       "  <tbody>\n",
       "    <tr>\n",
       "      <th>Control</th>\n",
       "      <td>9242</td>\n",
       "      <td>4687</td>\n",
       "      <td>1525</td>\n",
       "      <td>1034</td>\n",
       "      <td>1527</td>\n",
       "      <td>18015</td>\n",
       "    </tr>\n",
       "    <tr>\n",
       "      <th>Test</th>\n",
       "      <td>12597</td>\n",
       "      <td>5532</td>\n",
       "      <td>1818</td>\n",
       "      <td>895</td>\n",
       "      <td>1171</td>\n",
       "      <td>22013</td>\n",
       "    </tr>\n",
       "    <tr>\n",
       "      <th>All</th>\n",
       "      <td>21839</td>\n",
       "      <td>10219</td>\n",
       "      <td>3343</td>\n",
       "      <td>1929</td>\n",
       "      <td>2698</td>\n",
       "      <td>40028</td>\n",
       "    </tr>\n",
       "  </tbody>\n",
       "</table>\n",
       "</div>"
      ],
      "text/plain": [
       "Drop_Off_Step  confirm  start  step_1  step_2  step_3    All\n",
       "Variation                                                   \n",
       "Control           9242   4687    1525    1034    1527  18015\n",
       "Test             12597   5532    1818     895    1171  22013\n",
       "All              21839  10219    3343    1929    2698  40028"
      ]
     },
     "execution_count": 53,
     "metadata": {},
     "output_type": "execute_result"
    }
   ],
   "source": [
    "#Show Drop Step Contingency Table:\n",
    "contingency_table2"
   ]
  },
  {
   "cell_type": "code",
   "execution_count": 54,
   "metadata": {
    "collapsed": true
   },
   "outputs": [],
   "source": [
    "#Assigns the frequency values\n",
    "controlcount2 = contingency_table2.iloc[0][1:5].values\n",
    "testcount2 = contingency_table2.iloc[1][1:5].values"
   ]
  },
  {
   "cell_type": "code",
   "execution_count": 55,
   "metadata": {},
   "outputs": [
    {
     "data": {
      "text/plain": [
       "array([[4687, 1525, 1034, 1527],\n",
       "       [5532, 1818,  895, 1171]], dtype=int64)"
      ]
     },
     "execution_count": 55,
     "metadata": {},
     "output_type": "execute_result"
    }
   ],
   "source": [
    "#Puts Observations from Contingency table into an Array\n",
    "f_obs2 = np.array([contingency_table2.iloc[0][1:5].values,\n",
    "contingency_table2.iloc[1][1:5].values])\n",
    "f_obs2"
   ]
  },
  {
   "cell_type": "code",
   "execution_count": 56,
   "metadata": {},
   "outputs": [
    {
     "data": {
      "text/plain": [
       "(129.97436144394939, 5.4777042194820374e-28, 3)"
      ]
     },
     "execution_count": 56,
     "metadata": {},
     "output_type": "execute_result"
    }
   ],
   "source": [
    "#Run Chi-Squared Test Statistic for the Drop Step:\n",
    "stats.chi2_contingency(f_obs2)[0:3]"
   ]
  },
  {
   "cell_type": "code",
   "execution_count": 57,
   "metadata": {},
   "outputs": [
    {
     "data": {
      "text/html": [
       "<div>\n",
       "<style>\n",
       "    .dataframe thead tr:only-child th {\n",
       "        text-align: right;\n",
       "    }\n",
       "\n",
       "    .dataframe thead th {\n",
       "        text-align: left;\n",
       "    }\n",
       "\n",
       "    .dataframe tbody tr th {\n",
       "        vertical-align: top;\n",
       "    }\n",
       "</style>\n",
       "<table border=\"1\" class=\"dataframe\">\n",
       "  <thead>\n",
       "    <tr style=\"text-align: right;\">\n",
       "      <th></th>\n",
       "      <th>Confirm_Flag</th>\n",
       "    </tr>\n",
       "    <tr>\n",
       "      <th>Variation</th>\n",
       "      <th></th>\n",
       "    </tr>\n",
       "  </thead>\n",
       "  <tbody>\n",
       "    <tr>\n",
       "      <th>Control</th>\n",
       "      <td>9775.0</td>\n",
       "    </tr>\n",
       "    <tr>\n",
       "      <th>Test</th>\n",
       "      <td>12792.0</td>\n",
       "    </tr>\n",
       "  </tbody>\n",
       "</table>\n",
       "</div>"
      ],
      "text/plain": [
       "           Confirm_Flag\n",
       "Variation              \n",
       "Control          9775.0\n",
       "Test            12792.0"
      ]
     },
     "execution_count": 57,
     "metadata": {},
     "output_type": "execute_result"
    }
   ],
   "source": [
    "#Create Pivot Table of Confirm and\n",
    "summary= df_date.pivot_table(values='Confirm_Flag', index='Variation', aggfunc\n",
    "='sum')\n",
    "summary"
   ]
  },
  {
   "cell_type": "code",
   "execution_count": 58,
   "metadata": {
    "collapsed": true
   },
   "outputs": [],
   "source": [
    "# add additional columns to the pivot table\n",
    "summary['Total Attempts'] = df_date.pivot_table(values='Confirm_Flag', index='Variation', aggfunc=lambda x: len(x))\n",
    "summary['Confirmation Rate'] = df_date.pivot_table(values='Confirm_Flag', index='Variation')"
   ]
  },
  {
   "cell_type": "code",
   "execution_count": 59,
   "metadata": {},
   "outputs": [
    {
     "data": {
      "text/html": [
       "<div>\n",
       "<style>\n",
       "    .dataframe thead tr:only-child th {\n",
       "        text-align: right;\n",
       "    }\n",
       "\n",
       "    .dataframe thead th {\n",
       "        text-align: left;\n",
       "    }\n",
       "\n",
       "    .dataframe tbody tr th {\n",
       "        vertical-align: top;\n",
       "    }\n",
       "</style>\n",
       "<table border=\"1\" class=\"dataframe\">\n",
       "  <thead>\n",
       "    <tr style=\"text-align: right;\">\n",
       "      <th></th>\n",
       "      <th>Confirm_Flag</th>\n",
       "      <th>Total Attempts</th>\n",
       "      <th>Confirmation Rate</th>\n",
       "    </tr>\n",
       "    <tr>\n",
       "      <th>Variation</th>\n",
       "      <th></th>\n",
       "      <th></th>\n",
       "      <th></th>\n",
       "    </tr>\n",
       "  </thead>\n",
       "  <tbody>\n",
       "    <tr>\n",
       "      <th>Control</th>\n",
       "      <td>9775.0</td>\n",
       "      <td>18015.0</td>\n",
       "      <td>0.542603</td>\n",
       "    </tr>\n",
       "    <tr>\n",
       "      <th>Test</th>\n",
       "      <td>12792.0</td>\n",
       "      <td>22013.0</td>\n",
       "      <td>0.581111</td>\n",
       "    </tr>\n",
       "  </tbody>\n",
       "</table>\n",
       "</div>"
      ],
      "text/plain": [
       "           Confirm_Flag  Total Attempts  Confirmation Rate\n",
       "Variation                                                 \n",
       "Control          9775.0         18015.0           0.542603\n",
       "Test            12792.0         22013.0           0.581111"
      ]
     },
     "execution_count": 59,
     "metadata": {},
     "output_type": "execute_result"
    }
   ],
   "source": [
    "summary"
   ]
  },
  {
   "cell_type": "code",
   "execution_count": null,
   "metadata": {
    "collapsed": true
   },
   "outputs": [],
   "source": [
    "##Below code is used to calculate Bayesian Statistics:"
   ]
  },
  {
   "cell_type": "code",
   "execution_count": 60,
   "metadata": {
    "collapsed": true
   },
   "outputs": [],
   "source": [
    "from scipy.stats import beta"
   ]
  },
  {
   "cell_type": "code",
   "execution_count": 61,
   "metadata": {
    "collapsed": true
   },
   "outputs": [],
   "source": [
    "##This imports the calc_prob.py library:\n",
    "\n",
    "from math import lgamma\n",
    "from numba import jit\n",
    "#defining the functions used\n",
    "@jit\n",
    "def h(a, b, c, d):\n",
    "    num = lgamma(a + c) + lgamma(b + d) + lgamma(a + b) + lgamma(c + d)\n",
    "    den = lgamma(a) + lgamma(b) + lgamma(c) + lgamma(d) + lgamma(a + b + c + d)\n",
    "    return np.exp(num - den)\n",
    "\n",
    "@jit\n",
    "def g0(a, b, c):\n",
    "    return np.exp(lgamma(a + b) + lgamma(a + c) - (lgamma(a + b + c) + lgamma(a)))\n",
    "\n",
    "@jit\n",
    "def hiter(a, b, c, d):\n",
    "    while d > 1:\n",
    "        d -= 1\n",
    "        yield h(a, b, c, d) / d\n",
    "\n",
    "def g(a, b, c, d):\n",
    "    return g0(a, b, c) + sum(hiter(a, b, c, d))\n",
    "\n",
    "def calc_prob_between(beta1, beta2):\n",
    "    return g(beta1.args[0], beta1.args[1], beta2.args[0], beta2.args[1])"
   ]
  },
  {
   "cell_type": "code",
   "execution_count": 64,
   "metadata": {},
   "outputs": [
    {
     "name": "stdout",
     "output_type": "stream",
     "text": [
      "Test option lift Conversion Rates by -12.21% with 75.5% probability.\n"
     ]
    }
   ],
   "source": [
    "#This is the known data: total sample grouping and website confirmation rate for the Control and Test set\n",
    "imps_ctrl,convs_ctrl=18015, 54\n",
    "imps_test, convs_test=22013, 58\n",
    "#here we create the Beta functions for the two sets\n",
    "a_C, b_C = convs_ctrl+1, imps_ctrl-convs_ctrl+1\n",
    "beta_C = beta(a_C, b_C)\n",
    "a_T, b_T = convs_test+1, imps_test-convs_test+1\n",
    "beta_T = beta(a_T, b_T)\n",
    "#calculating the lift\n",
    "lift=(beta_T.mean()-beta_C.mean())/beta_C.mean()\n",
    "#calculating the probability for Control to be better than Test\n",
    "prob=calc_prob_between(beta_C, beta_T)\n",
    "print (f\"Test option lift Conversion Rates by {lift*100:2.2f}% with {prob*100:2.1f}% probability.\")"
   ]
  },
  {
   "cell_type": "code",
   "execution_count": 68,
   "metadata": {},
   "outputs": [],
   "source": [
    "import matplotlib.pyplot as plt\n",
    "def calc_beta_mode(a, b):\n",
    "    #'''this function calculate the mode (peak) of the Beta distribution'''\n",
    "    return (a-1)/(a+b-2)"
   ]
  },
  {
   "cell_type": "code",
   "execution_count": 71,
   "metadata": {
    "collapsed": true
   },
   "outputs": [],
   "source": [
    "def plot(betas, names, linf=0, lsup=0.01):\n",
    "    #'''this function plots the Beta distribution'''\n",
    "    x=np.linspace(linf,lsup, 100)\n",
    "    for f, name in zip(betas,names) :\n",
    "        y=f.pdf(x) #this for calculate the value for the PDF at the specified x-points\n",
    "\n",
    "        y_mode=calc_beta_mode(f.args[0], f.args[1])\n",
    "        y_var=f.var() # the variance of the Beta distribution\n",
    "        plt.plot(x,y, label=f\"{name} sample, conversion rate: {y_mode:0.1E} $\\pm$ {y_var:0.1E}\")\n",
    "        plt.yticks([])\n",
    "    plt.legend()\n",
    "    plt.show()"
   ]
  },
  {
   "cell_type": "code",
   "execution_count": 72,
   "metadata": {},
   "outputs": [
    {
     "data": {
      "image/png": "[encoded data removed]",
      "text/plain": [
       "<matplotlib.figure.Figure at 0x2cea41668d0>"
      ]
     },
     "metadata": {},
     "output_type": "display_data"
    }
   ],
   "source": [
    "plot([beta_C, beta_T], names=[\"Control\", \"Test\"])"
   ]
  },
  {
   "cell_type": "code",
   "execution_count": null,
   "metadata": {
    "collapsed": true
   },
   "outputs": [],
   "source": []
  }
 ],
 "metadata": {
  "kernelspec": {
   "display_name": "Python 3",
   "language": "python",
   "name": "python3"
  },
  "language_info": {
   "codemirror_mode": {
    "name": "ipython",
    "version": 3
   },
   "file_extension": ".py",
   "mimetype": "text/x-python",
   "name": "python",
   "nbconvert_exporter": "python",
   "pygments_lexer": "ipython3",
   "version": "3.6.1"
  }
 },
 "nbformat": 4,
 "nbformat_minor": 2
}
